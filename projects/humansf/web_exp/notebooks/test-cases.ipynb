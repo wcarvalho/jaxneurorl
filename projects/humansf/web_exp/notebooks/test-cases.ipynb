{
 "cells": [
  {
   "cell_type": "code",
   "execution_count": 2,
   "id": "7b9c2156-c38d-4859-a424-9a61a63995f1",
   "metadata": {},
   "outputs": [],
   "source": [
    "%load_ext autoreload\n",
    "%autoreload 2\n"
   ]
  },
  {
   "cell_type": "code",
   "execution_count": 3,
   "id": "2ccf817b-c171-47f5-b0c0-1e213c3a73cf",
   "metadata": {},
   "outputs": [
    {
     "name": "stdout",
     "output_type": "stream",
     "text": [
      "at directory: /Users/wilka/git/research/web-human-rl/projects/online_dyna/notebooks\n",
      "changing to root directory\n",
      "at directory: /Users/wilka/git/research/web-human-rl\n"
     ]
    }
   ],
   "source": [
    "import os\n",
    "import sys\n",
    "print(\"at directory:\", os.getcwd())\n",
    "print(\"changing to root directory\")\n",
    "os.chdir(\"../../..\")\n",
    "print(\"at directory:\", os.getcwd())\n",
    "\n",
    "import sys\n",
    "sys.path.append(\"projects/online_dyna\")"
   ]
  },
  {
   "cell_type": "code",
   "execution_count": 4,
   "id": "56b9d3af-c8d9-4d14-a5db-a3dd582bf961",
   "metadata": {},
   "outputs": [
    {
     "name": "stderr",
     "output_type": "stream",
     "text": [
      "/Users/wilka/miniforge3/envs/webrl/lib/python3.10/site-packages/tqdm/auto.py:21: TqdmWarning: IProgress not found. Please update jupyter and ipywidgets. See https://ipywidgets.readthedocs.io/en/stable/user_install.html\n",
      "  from .autonotebook import tqdm as notebook_tqdm\n"
     ]
    }
   ],
   "source": [
    "import jax\n",
    "import jax.numpy as jnp\n",
    "import json\n",
    "import functools\n",
    "\n",
    "from xminigrid.rendering.rgb_render import render\n",
    "import numpy as np\n",
    "from IPython.display import Image\n",
    "\n",
    "\n",
    "\n",
    "from projects.humansf import visualizer\n",
    "from projects.online_dyna import keyroom\n",
    "from projects.online_dyna import minigrid_common\n",
    "import utils"
   ]
  },
  {
   "cell_type": "code",
   "execution_count": 5,
   "id": "4ef830fe-1b6b-47e9-a246-65baa48e7c32",
   "metadata": {},
   "outputs": [],
   "source": [
    "import json\n",
    "\n",
    "# Open the file and load the JSON data\n",
    "with open(\"projects/online_dyna/maze_pairs.json\", \"r\") as file:\n",
    "    maze_config = json.load(file)[0]"
   ]
  },
  {
   "cell_type": "code",
   "execution_count": 6,
   "id": "446f9cbd-650f-44ca-9a78-6271f3e03d47",
   "metadata": {},
   "outputs": [
    {
     "name": "stdout",
     "output_type": "stream",
     "text": [
      "{'keys': [['key', 'grey'],\n",
      "          ['key', 'red'],\n",
      "          ['key', 'purple'],\n",
      "          ['key', 'yellow']],\n",
      " 'pairs': [[['box', 'blue'], ['ball', 'blue']],\n",
      "           [['box', 'purple'], ['box', 'green']],\n",
      "           [['ball', 'green'], ['box', 'yellow']],\n",
      "           [['key', 'blue'], ['key', 'green']]]}\n"
     ]
    },
    {
     "data": {
      "text/plain": [
       "KeyRoomEnvParams(height=19, width=19, view_size=7, render_mode='rgb_array', random_door_loc=False, random_obj_loc=True, train_multi_probs=0.5, training=True, time_limit=150, maze_config={'keys': Array([[9, 8],\n",
       "       [9, 3],\n",
       "       [9, 6]], dtype=uint8), 'pairs': Array([[[6, 5],\n",
       "        [5, 5]],\n",
       "\n",
       "       [[6, 6],\n",
       "        [6, 4]],\n",
       "\n",
       "       [[5, 4],\n",
       "        [6, 7]]], dtype=uint8)}, task_objects=Array([[[ 9,  8,  1,  1],\n",
       "        [12,  8,  1,  0],\n",
       "        [ 6,  5,  1,  1],\n",
       "        [ 5,  5,  1,  1]],\n",
       "\n",
       "       [[ 9,  3,  1,  1],\n",
       "        [12,  3,  1,  0],\n",
       "        [ 6,  6,  1,  1],\n",
       "        [ 6,  4,  1,  1]],\n",
       "\n",
       "       [[ 9,  6,  1,  1],\n",
       "        [12,  6,  1,  0],\n",
       "        [ 5,  4,  1,  1],\n",
       "        [ 6,  7,  1,  1]]], dtype=uint8), train_w=Array([[0.25, 0.5 , 1.  , 0.  ],\n",
       "       [0.25, 0.5 , 1.  , 0.  ],\n",
       "       [0.25, 0.5 , 1.  , 0.  ]], dtype=float32), test_w=Array([[0., 0., 0., 1.],\n",
       "       [0., 0., 0., 1.],\n",
       "       [0., 0., 0., 1.]], dtype=float32))"
      ]
     },
     "execution_count": 6,
     "metadata": {},
     "output_type": "execute_result"
    }
   ],
   "source": [
    "maze_config = \n",
    "{'keys': [['key', 'grey'],\n",
    "          ['key', 'red'],\n",
    "          ['key', 'purple'],\n",
    "          ['key', 'yellow']],\n",
    " 'pairs': [[['box', 'blue'], ['ball', 'blue']],\n",
    "           [['box', 'purple'], ['box', 'green']],\n",
    "           [['ball', 'green'], ['box', 'yellow']],\n",
    "           [['key', 'blue'], ['key', 'green']]]}\n",
    "from pprint import pprint\n",
    "\n",
    "\n",
    "pprint(maze_config)\n",
    "\n",
    "num_rooms = 3\n",
    "size=16\n",
    "env = utils.KeyRoomUpDownLeftRight(\n",
    "    train_episode_ends_on_pair_pickup=False,\n",
    ")\n",
    "env_params = env.default_params(\n",
    "    maze_config=keyroom.shorten_maze_config(maze_config, num_rooms),\n",
    "    height=size,\n",
    "    width=size,\n",
    "    random_obj_loc=True,\n",
    ")\n",
    "env_params"
   ]
  },
  {
   "cell_type": "code",
   "execution_count": 7,
   "id": "2a319818-fc49-49ca-b9e4-af70848580c2",
   "metadata": {},
   "outputs": [],
   "source": [
    "def render(timestep):\n",
    "    return utils.render(\n",
    "        np.asarray(timestep.state.grid),\n",
    "        timestep.state.agent,\n",
    "        0,\n",
    "        tile_size=20)\n"
   ]
  },
  {
   "cell_type": "code",
   "execution_count": 38,
   "id": "083c84ca-9849-4980-bf09-4e4bded6af77",
   "metadata": {},
   "outputs": [
    {
     "data": {
      "image/png": "[encoded data removed]",
      "text/plain": [
       "<Figure size 640x480 with 1 Axes>"
      ]
     },
     "metadata": {},
     "output_type": "display_data"
    }
   ],
   "source": [
    "import jax \n",
    "seed=10\n",
    "\n",
    "num_rooms = 3\n",
    "size=19\n",
    "env = utils.KeyRoomUpDownLeftRight(\n",
    "    train_episode_ends_on_pair_pickup=False,\n",
    ")\n",
    "env_params = env.default_params(\n",
    "    maze_config=keyroom.shorten_maze_config(maze_config, num_rooms),\n",
    "    height=size,\n",
    "    width=size,\n",
    "    random_obj_loc=True,\n",
    ")\n",
    "env_params\n",
    "\n",
    "rng = jax.random.PRNGKey(seed)\n",
    "rng, rng_ = jax.random.split(rng)\n",
    "env_params = env_params.replace(random_obj_loc=False, train_multi_probs=0.)\n",
    "timestep = env.reset(rng_, env_params)\n",
    "# print(timestep.observation.task_w)\n",
    "\n",
    "# get image of full state\n",
    "state_image = render(timestep)\n",
    "visualizer.display_image(state_image)\n",
    "\n",
    "\n",
    "\n",
    "# timestep = env.step(rng_, timestep, 2, env_params)\n",
    "# timestep = env.step(rng_, timestep, 1, env_params)\n",
    "# timestep = env.step(rng_, timestep, 4, env_params)\n",
    "# timestep = env.step(rng_, timestep, 3, env_params)\n",
    "\n",
    "# state_image = render(timestep)\n",
    "# visualizer.display_image(state_image)\n"
   ]
  },
  {
   "cell_type": "code",
   "execution_count": 51,
   "id": "945a6321-867e-4440-83d9-2efba4daad28",
   "metadata": {},
   "outputs": [],
   "source": [
    "keys = env_params.maze_config['keys']\n",
    "\n",
    "def randomize(x, rng=None):\n",
    "    # Generate random permutation indices\n",
    "    permutation = jax.random.permutation(rng, x.shape[0])\n",
    "\n",
    "    # Apply permutation to the array\n",
    "    return x[permutation]\n"
   ]
  },
  {
   "cell_type": "code",
   "execution_count": 24,
   "id": "d0397a6c-ffd7-4859-b5cb-71c746d1beb1",
   "metadata": {},
   "outputs": [
    {
     "data": {
      "image/png": "[encoded data removed]",
      "text/plain": [
       "<Figure size 640x480 with 1 Axes>"
      ]
     },
     "metadata": {},
     "output_type": "display_data"
    },
    {
     "data": {
      "text/plain": [
       "(100, 150, 3)"
      ]
     },
     "execution_count": 24,
     "metadata": {},
     "output_type": "execute_result"
    }
   ],
   "source": [
    "\n",
    "\n",
    "keys = utils.permute(keys, jax.random.PRNGKey(1))\n",
    "image = utils.objects_with_number(keys)\n",
    "visualizer.display_image(image)\n",
    "image.shape"
   ]
  },
  {
   "cell_type": "code",
   "execution_count": 25,
   "id": "3f68eb57-c91e-46c4-934a-14588d08efb9",
   "metadata": {},
   "outputs": [
    {
     "data": {
      "image/png": "[encoded data removed]",
      "text/plain": [
       "<Figure size 640x480 with 1 Axes>"
      ]
     },
     "metadata": {},
     "output_type": "display_data"
    },
    {
     "data": {
      "text/plain": [
       "(100, 300, 3)"
      ]
     },
     "execution_count": 25,
     "metadata": {},
     "output_type": "execute_result"
    }
   ],
   "source": [
    "pairs = env_params.maze_config['pairs']\n",
    "pairs = pairs.reshape(-1, 2)\n",
    "\n",
    "pairs = utils.permute(pairs, jax.random.PRNGKey(1))\n",
    "image = utils.objects_with_number(pairs)\n",
    "visualizer.display_image(image)\n",
    "image.shape"
   ]
  },
  {
   "cell_type": "code",
   "execution_count": 16,
   "id": "e3a6bade-c4f6-4c7e-83de-c53ce8ef342c",
   "metadata": {},
   "outputs": [
    {
     "data": {
      "image/png": "[encoded data removed]",
      "text/plain": [
       "<Figure size 640x480 with 1 Axes>"
      ]
     },
     "metadata": {},
     "output_type": "display_data"
    },
    {
     "data": {
      "text/plain": [
       "2"
      ]
     },
     "execution_count": 16,
     "metadata": {},
     "output_type": "execute_result"
    }
   ],
   "source": []
  },
  {
   "cell_type": "markdown",
   "id": "f686da3b-1d9a-4ae8-9917-8e7815fa6a02",
   "metadata": {},
   "source": [
    "## "
   ]
  }
 ],
 "metadata": {
  "kernelspec": {
   "display_name": "Python 3 (ipykernel)",
   "language": "python",
   "name": "python3"
  },
  "language_info": {
   "codemirror_mode": {
    "name": "ipython",
    "version": 3
   },
   "file_extension": ".py",
   "mimetype": "text/x-python",
   "name": "python",
   "nbconvert_exporter": "python",
   "pygments_lexer": "ipython3",
   "version": "3.10.14"
  }
 },
 "nbformat": 4,
 "nbformat_minor": 5
}
