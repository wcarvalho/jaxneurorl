{
 "cells": [
  {
   "cell_type": "code",
   "execution_count": 1,
   "id": "80aac0d9-5474-4e74-81dd-fc0bad9a3089",
   "metadata": {},
   "outputs": [],
   "source": [
    "%load_ext autoreload\n",
    "%autoreload 2\n"
   ]
  },
  {
   "cell_type": "code",
   "execution_count": 2,
   "id": "c30e3a0d-ef1f-4b2f-9e59-5ffd876cf0a1",
   "metadata": {},
   "outputs": [
    {
     "name": "stdout",
     "output_type": "stream",
     "text": [
      "at directory: /Users/wilka/git/research/jaxneurorl/projects/humansf\n",
      "changing to root directory\n",
      "at directory: /Users/wilka/git/research/jaxneurorl\n"
     ]
    }
   ],
   "source": [
    "import os\n",
    "import sys\n",
    "print(\"at directory:\", os.getcwd())\n",
    "print(\"changing to root directory\")\n",
    "os.chdir(\"../..\")\n",
    "print(\"at directory:\", os.getcwd())"
   ]
  },
  {
   "cell_type": "code",
   "execution_count": 65,
   "id": "9fc0a841-cfea-4619-a11f-f2b6c9134a2e",
   "metadata": {},
   "outputs": [],
   "source": [
    "import jax\n",
    "import jax.numpy as jnp\n",
    "import json\n",
    "import functools\n",
    "\n",
    "from xminigrid.rendering.rgb_render import render\n",
    "import numpy as np\n",
    "from IPython.display import Image\n",
    "\n",
    "from library import parallel\n",
    "\n",
    "from singleagent import value_based_basics as vbb\n",
    "\n",
    "from projects.humansf import visualizer\n",
    "from projects.humansf import keyroom\n",
    "from projects.humansf import minigrid_common"
   ]
  },
  {
   "cell_type": "code",
   "execution_count": 66,
   "id": "275c0b80-0810-49fb-b722-d831f17db7a3",
   "metadata": {},
   "outputs": [],
   "source": [
    "# Open the file and load the JSON data\n",
    "with open(\"projects/humansf/maze_pairs.json\", \"r\") as file:\n",
    "    maze_config = json.load(file)[0]"
   ]
  },
  {
   "cell_type": "code",
   "execution_count": 75,
   "id": "a56af713-d7e3-4ebc-9b9d-8cf7110f3864",
   "metadata": {},
   "outputs": [
    {
     "name": "stdout",
     "output_type": "stream",
     "text": [
      "{'keys': [['key', 'grey'],\n",
      "          ['key', 'red'],\n",
      "          ['key', 'purple'],\n",
      "          ['key', 'yellow']],\n",
      " 'pairs': [[['box', 'blue'], ['ball', 'blue']],\n",
      "           [['box', 'purple'], ['box', 'green']],\n",
      "           [['ball', 'green'], ['box', 'yellow']],\n",
      "           [['key', 'blue'], ['key', 'green']]]}\n"
     ]
    },
    {
     "data": {
      "text/plain": [
       "KeyRoomEnvParams(height=19, width=19, view_size=7, render_mode='rgb_array', random_door_loc=False, train_multi_probs=0.5, training=True, maze_config={'keys': Array([[9, 8]], dtype=uint8), 'pairs': Array([[[6, 5],\n",
       "        [5, 5]]], dtype=uint8)}, task_objects=Array([[[ 9,  8,  1,  1],\n",
       "        [12,  8,  1,  0],\n",
       "        [ 6,  5,  1,  1],\n",
       "        [ 5,  5,  1,  1]]], dtype=uint8), train_w=Array([[0.1 , 0.25, 1.  , 0.  ]], dtype=float32), test_w=Array([[0., 0., 0., 1.]], dtype=float32))"
      ]
     },
     "execution_count": 75,
     "metadata": {},
     "output_type": "execute_result"
    }
   ],
   "source": [
    "from pprint import pprint\n",
    "\n",
    "\n",
    "pprint(maze_config)\n",
    "\n",
    "env = keyroom.KeyRoom()\n",
    "env_params = env.default_params(\n",
    "    maze_config=keyroom.shorten_maze_config(maze_config, 1)\n",
    ")\n",
    "env_params"
   ]
  },
  {
   "cell_type": "code",
   "execution_count": 76,
   "id": "137243b2-7ad4-404a-b742-e5e5efac7ca1",
   "metadata": {},
   "outputs": [
    {
     "data": {
      "image/png": "[encoded data removed]",
      "text/plain": [
       "<Figure size 640x480 with 1 Axes>"
      ]
     },
     "metadata": {},
     "output_type": "display_data"
    }
   ],
   "source": [
    "seed=3\n",
    "rng = jax.random.PRNGKey(seed)\n",
    "rng, rng_ = jax.random.split(rng)\n",
    "for seed in range(0, 1):\n",
    "    rng, rng_ = jax.random.split(rng)\n",
    "    timestep = env.reset(rng_, env_params)\n",
    "    \n",
    "    # # get image of full state\n",
    "    # state_image = env.render(env_params, timestep)\n",
    "    # visualizer.display_image(state_image)\n",
    "    \n",
    "    # get image of what agent observes (theirs is symbolic)\n",
    "    obs_image = keyroom.render_room(timestep.state)\n",
    "    visualizer.display_image(obs_image)\n",
    "    \n",
    "    # jax.tree_map(lambda x:x.shape, timestep.observation)"
   ]
  },
  {
   "cell_type": "code",
   "execution_count": 77,
   "id": "0dc7b848-e167-4575-8cbd-e01a99ae9c91",
   "metadata": {
    "jupyter": {
     "source_hidden": true
    }
   },
   "outputs": [],
   "source": [
    "colors = [\n",
    "    \"EMPTY\",\n",
    "    \"END_OF_MAP\",\n",
    "    \"UNSEEN\",\n",
    "    \"RED\",\n",
    "    \"GREEN\",\n",
    "    \"BLUE\",\n",
    "    \"PURPLE\",\n",
    "    \"YELLOW\",\n",
    "    \"GREY\",\n",
    "    \"BLACK\",\n",
    "    \"ORANGE\",\n",
    "    \"WHITE\",\n",
    "    \"BROWN\",\n",
    "    \"PINK\",\n",
    " ]\n",
    "categories = [\n",
    "    \"EMPTY\",\n",
    "    \"END_OF_MAP\",\n",
    "    \"UNSEEN\",\n",
    "    \"FLOOR\",\n",
    "    \"WALL\",\n",
    "    \"BALL\",\n",
    "    \"SQUARE\",\n",
    "    \"PYRAMID\",\n",
    "    \"GOAL\",\n",
    "    \"KEY\",\n",
    "    \"DOOR_LOCKED\",\n",
    "    \"DOOR_CLOSED\",\n",
    "    \"DOOR_OPEN\",\n",
    "    \"HEX\",\n",
    "    \"STAR\",\n",
    "]"
   ]
  },
  {
   "cell_type": "code",
   "execution_count": 78,
   "id": "a165636c-0693-4023-90c6-5735a8fd3f76",
   "metadata": {},
   "outputs": [
    {
     "data": {
      "text/plain": [
       "Array([0., 0., 0., 1.], dtype=float32)"
      ]
     },
     "execution_count": 78,
     "metadata": {},
     "output_type": "execute_result"
    }
   ],
   "source": [
    "timestep.observation.task_w"
   ]
  },
  {
   "cell_type": "code",
   "execution_count": 79,
   "id": "f1684073-896a-4f97-9843-c39bf51c228c",
   "metadata": {},
   "outputs": [
    {
     "name": "stdout",
     "output_type": "stream",
     "text": [
      "room\n",
      "symbolic at (2, 3) [3 9]\n",
      "\t BLACK FLOOR\n",
      "[0. 0. 0. 1. 0. 0. 0. 0. 0. 0. 0. 0. 0. 0. 0. 0. 0. 0. 0. 0. 0. 0. 0. 0.\n",
      " 1. 0. 0. 0. 0.]\n",
      "1.0 1.0\n",
      "room\n",
      "symbolic at (3, 4) [3 9]\n",
      "\t BLACK FLOOR\n",
      "[0. 0. 0. 1. 0. 0. 0. 0. 0. 0. 0. 0. 0. 0. 0. 0. 0. 0. 0. 0. 0. 0. 0. 0.\n",
      " 1. 0. 0. 0. 0.]\n",
      "1.0 1.0\n"
     ]
    }
   ],
   "source": [
    "# timestep.state.agent.position, timestep.state.local_agent_position\n",
    "\n",
    "def info(y, x):\n",
    "    print('room')\n",
    "    symbols = timestep.state.room_grid[y,x]\n",
    "    print(f'symbolic at {y, x}', symbols)\n",
    "    print(f'\\t', colors[symbols[1]], categories[symbols[0]])\n",
    "    print(timestep.observation.image[y,x])\n",
    "    print(timestep.observation.image[y,x, symbols[0]], timestep.observation.image[y,x, len(categories)+symbols[1]])\n",
    "\n",
    "# print(\"ball\")\n",
    "info(2, 3)\n",
    "info(3, 4)\n"
   ]
  },
  {
   "cell_type": "code",
   "execution_count": 85,
   "id": "52571f1e-7e3d-434e-bffe-b48220b387f6",
   "metadata": {},
   "outputs": [
    {
     "data": {
      "image/png": "[encoded data removed]",
      "text/plain": [
       "<Figure size 640x480 with 1 Axes>"
      ]
     },
     "metadata": {},
     "output_type": "display_data"
    },
    {
     "name": "stdout",
     "output_type": "stream",
     "text": [
      "True\n",
      "==========\n",
      "1.0 done = 0.0\n",
      "[1. 0. 0. 0.] * [0.1  0.25 1.   0.  ] 0.1\n"
     ]
    },
    {
     "data": {
      "image/png": "[encoded data removed]",
      "text/plain": [
       "<Figure size 640x480 with 1 Axes>"
      ]
     },
     "metadata": {},
     "output_type": "display_data"
    },
    {
     "name": "stdout",
     "output_type": "stream",
     "text": [
      "83 1.0\n"
     ]
    }
   ],
   "source": [
    "# rng = jax.random.PRNGKey(1)  # multiroom\n",
    "rng = jax.random.PRNGKey(4)  # single room\n",
    "rng, rng_ = jax.random.split(rng)\n",
    "# rng, rng_ = jax.random.split(rng)\n",
    "env_params = env_params.replace(training=False)\n",
    "timestep = env.reset(rng_, env_params)\n",
    "state_image = env.render(env_params, timestep)\n",
    "visualizer.display_image(state_image)\n",
    "t_limit = 150\n",
    "\n",
    "# state_seq = [env.render(env_params, timestep)]\n",
    "obs_seq = [keyroom.render_room(timestep.state)]\n",
    "reward_seq = [timestep.reward]\n",
    "timesteps = []\n",
    "print(timestep.first())\n",
    "t_counter = 0\n",
    "while True:\n",
    "    rng, rng_act, rng_step = jax.random.split(rng, 3)\n",
    "    action = jax.random.randint(rng_act, (), 0, env.num_actions(env_params))\n",
    "\n",
    "    timestep = env.step(rng_step, timestep, action, env_params)\n",
    "    # state_seq.append(env.render(env_params, timestep))\n",
    "    obs_seq.append(keyroom.render_room(timestep.state))\n",
    "    reward_seq.append(timestep.reward)\n",
    "    # print('r=', timestep.reward, 'gamma=', timestep.discount)\n",
    "    if timestep.reward > 0:\n",
    "        obs = timestep.observation\n",
    "        obs = jax.tree_map(lambda x: x.astype(jnp.float32), obs)\n",
    "\n",
    "        print(\"=\"*10)\n",
    "        print(timestep.reward, 'done =', timestep.discount)\n",
    "        print(obs.state_features, \"*\",obs.task_w, (obs.state_features*obs.task_w).sum(-1))\n",
    "        # print(obs.image.sum(-1))\n",
    "        obs_image = keyroom.render_room(timestep.state)\n",
    "        visualizer.display_image(obs_image)\n",
    "\n",
    "    # obs_image = keyroom.render_room(timestep)\n",
    "    # visualizer.display_image(obs_image)\n",
    "\n",
    "    t_counter += 1\n",
    "    if timestep.last() or t_counter >= t_limit:\n",
    "        break\n",
    "\n",
    "cum_rewards = jnp.cumsum(jnp.array(reward_seq))\n",
    "print(t_counter, sum(reward_seq))"
   ]
  },
  {
   "cell_type": "code",
   "execution_count": null,
   "id": "37e12789-872a-48b8-a701-d3539948f70c",
   "metadata": {},
   "outputs": [],
   "source": []
  },
  {
   "cell_type": "code",
   "execution_count": 19,
   "id": "9232dc6f-3b67-42df-81a4-6b50fadbfe0d",
   "metadata": {},
   "outputs": [
    {
     "name": "stderr",
     "output_type": "stream",
     "text": [
      "MovieWriter ffmpeg unavailable; using Pillow instead.\n"
     ]
    },
    {
     "data": {
      "text/html": [
       "<img src=\"analysis_media/anim1.gif\"/>"
      ],
      "text/plain": [
       "<IPython.core.display.Image object>"
      ]
     },
     "execution_count": 19,
     "metadata": {},
     "output_type": "execute_result"
    },
    {
     "data": {
      "image/png": "[encoded data removed]",
      "text/plain": [
       "<Figure size 500x500 with 1 Axes>"
      ]
     },
     "metadata": {},
     "output_type": "display_data"
    }
   ],
   "source": [
    "vis = visualizer.Visualizer(env, env_params, obs_seq, cum_rewards)\n",
    "vis.animate(f\"analysis_media/anim1.gif\")\n",
    "Image(url=f\"analysis_media/anim1.gif\")  "
   ]
  },
  {
   "cell_type": "code",
   "execution_count": null,
   "id": "7da17211-effa-43f4-b398-514aea8abd1f",
   "metadata": {},
   "outputs": [],
   "source": []
  }
 ],
 "metadata": {
  "kernelspec": {
   "display_name": "Python 3 (ipykernel)",
   "language": "python",
   "name": "python3"
  },
  "language_info": {
   "codemirror_mode": {
    "name": "ipython",
    "version": 3
   },
   "file_extension": ".py",
   "mimetype": "text/x-python",
   "name": "python",
   "nbconvert_exporter": "python",
   "pygments_lexer": "ipython3",
   "version": "3.10.0"
  }
 },
 "nbformat": 4,
 "nbformat_minor": 5
}
