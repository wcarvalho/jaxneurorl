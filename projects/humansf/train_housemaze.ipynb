{
 "cells": [
  {
   "cell_type": "code",
   "execution_count": 1,
   "id": "0e36084d-e09b-4954-82ca-2034a43572d5",
   "metadata": {},
   "outputs": [],
   "source": [
    "%load_ext autoreload\n",
    "%autoreload 2"
   ]
  },
  {
   "cell_type": "code",
   "execution_count": 2,
   "id": "af000c3d-312f-4f53-a71f-05e18f6ac50b",
   "metadata": {},
   "outputs": [
    {
     "name": "stdout",
     "output_type": "stream",
     "text": [
      "at directory: /Users/wilka/git/research/jaxneurorl/projects/humansf\n",
      "changing to root directory\n",
      "at directory: /Users/wilka/git/research/jaxneurorl\n"
     ]
    }
   ],
   "source": [
    "import os\n",
    "import sys\n",
    "print(\"at directory:\", os.getcwd())\n",
    "print(\"changing to root directory\")\n",
    "os.chdir(\"../..\")\n",
    "print(\"at directory:\", os.getcwd())"
   ]
  },
  {
   "cell_type": "code",
   "execution_count": 3,
   "id": "94381f2a-d6e4-49b4-82c7-e39969d972ba",
   "metadata": {},
   "outputs": [
    {
     "name": "stderr",
     "output_type": "stream",
     "text": [
      "/Users/wilka/miniforge3/envs/jaxneurorl/lib/python3.10/site-packages/distrax/_src/utils/conversion.py:145: UserWarning: Explicitly requested dtype <class 'jax.numpy.float64'> requested in astype is not available, and will be truncated to dtype float32. To enable more dtypes, set the jax_enable_x64 configuration option or the JAX_ENABLE_X64 shell environment variable. See https://github.com/google/jax#current-gotchas for more.\n",
      "  return x.astype(jnp.float_)\n"
     ]
    }
   ],
   "source": [
    "import jax\n",
    "import jax.numpy as jnp\n",
    "import functools\n",
    "\n",
    "import projects.humansf.trainer_housemaze as trainer\n",
    "from projects.humansf import housemaze_env as maze\n",
    "from projects.humansf.housemaze import utils\n",
    "from projects.humansf.housemaze import renderer"
   ]
  },
  {
   "cell_type": "code",
   "execution_count": 4,
   "id": "5e8b949a-93db-43e7-8c3e-04e145735537",
   "metadata": {},
   "outputs": [
    {
     "data": {
      "text/plain": [
       "ResetParams(map_init=MapInit(grid=(4, 13, 13, 1), agent_pos=(4, 2), agent_dir=(4,)), train_objects=(4, 3), test_objects=(4, 3), starting_locs=(4, 3, 10, 2), curriculum=(4,))"
      ]
     },
     "execution_count": 4,
     "metadata": {},
     "output_type": "execute_result"
    }
   ],
   "source": [
    "group_set, env_params = trainer.load_env_params(\n",
    "    num_groups=3,\n",
    "    file='projects/humansf/housemaze_list_of_groups.npy',\n",
    ")\n",
    "test_env_params = env_params.replace(training=False)\n",
    "jax.tree_map(lambda x:x.shape, env_params.reset_params)"
   ]
  },
  {
   "cell_type": "code",
   "execution_count": 5,
   "id": "37458cc5-70e9-41a7-a57b-7c9dad03f8c2",
   "metadata": {},
   "outputs": [
    {
     "data": {
      "text/plain": [
       "array([26, 40, 47, 43, 25, 30], dtype=int32)"
      ]
     },
     "execution_count": 5,
     "metadata": {},
     "output_type": "execute_result"
    }
   ],
   "source": [
    "task_objects = group_set.reshape(-1)\n",
    "task_objects"
   ]
  },
  {
   "cell_type": "code",
   "execution_count": 8,
   "id": "ffb47455-651a-4123-86bf-83c347fd99b2",
   "metadata": {},
   "outputs": [],
   "source": [
    "import matplotlib.pyplot as plt\n",
    "\n",
    "image_dict = utils.load_image_dict('projects/humansf/housemaze/image_data.pkl')\n",
    "\n",
    "def render_timestep(timestep):\n",
    "    image = renderer.create_image_from_grid(\n",
    "        timestep.state.grid,\n",
    "        timestep.state.agent_pos,\n",
    "        timestep.state.agent_dir,\n",
    "        image_dict)\n",
    "    plt.imshow(image)\n",
    "    plt.show()"
   ]
  },
  {
   "cell_type": "code",
   "execution_count": 9,
   "id": "9e6020a9-f9cd-4e39-8c36-c3b72d211f3f",
   "metadata": {},
   "outputs": [
    {
     "data": {
      "image/png": "[encoded data removed]",
      "text/plain": [
       "<Figure size 640x480 with 1 Axes>"
      ]
     },
     "metadata": {},
     "output_type": "display_data"
    }
   ],
   "source": [
    "seed = 6\n",
    "rng = jax.random.PRNGKey(seed)\n",
    "\n",
    "task_runner = maze.TaskRunner(\n",
    "    task_objects=task_objects)\n",
    "env = maze.HouseMaze(\n",
    "    task_runner=task_runner,\n",
    "    num_categories=len(image_dict['keys']),\n",
    ")\n",
    "env = utils.AutoResetWrapper(env)\n",
    "\n",
    "reset_timestep = env.reset(rng, env_params)\n",
    "render_timestep(reset_timestep)\n"
   ]
  },
  {
   "cell_type": "code",
   "execution_count": 10,
   "id": "fa47a08c-4222-480d-87d0-48f9e9c9264c",
   "metadata": {},
   "outputs": [
    {
     "data": {
      "text/plain": [
       "{'ALG': 'qlearning',\n",
       " 'NUM_SEEDS': 1,\n",
       " 'SEED': 1,\n",
       " 'MAX_EPISODE_LOG_LEN': 40,\n",
       " 'NUM_ENVS': 32,\n",
       " 'EVAL_STEPS': 100,\n",
       " 'EVAL_EPISODES': 100,\n",
       " 'LEARNER_LOG_PERIOD': 500,\n",
       " 'LEARNER_EXTRA_LOG_PERIOD': 5000,\n",
       " 'EVAL_LOG_PERIOD': 25,\n",
       " 'EVAL_LOG_PERIOD_ACTOR': 0,\n",
       " 'GRADIENT_LOG_PERIOD': 5000,\n",
       " 'AGENT_HIDDEN_DIM': 32,\n",
       " 'NUM_EMBED_LAYERS': 0,\n",
       " 'NUM_GRID_LAYERS': 1,\n",
       " 'NUM_ENCODER_LAYERS': 2,\n",
       " 'IMAGE_HIDDEN': 256,\n",
       " 'ENCODER_INIT': 'word_init',\n",
       " 'AGENT_RNN_DIM': 256,\n",
       " 'BUFFER_SIZE': 50000,\n",
       " 'BUFFER_BATCH_SIZE': 32,\n",
       " 'SAMPLE_LENGTH': 40,\n",
       " 'LEARNING_STARTS': 10000,\n",
       " 'TRAINING_INTERVAL': 10,\n",
       " 'FIXED_EPSILON': 2,\n",
       " 'TOTAL_TIMESTEPS': 10000000.0,\n",
       " 'EPSILON_START': 1.0,\n",
       " 'EPSILON_FINISH': 0.1,\n",
       " 'EPSILON_ANNEAL_TIME': 500000.0,\n",
       " 'MAX_GRAD_NORM': 80,\n",
       " 'TARGET_UPDATE_INTERVAL': 1000,\n",
       " 'LR': 0.001,\n",
       " 'LR_LINEAR_DECAY': False,\n",
       " 'EPS_ADAM': 1e-05,\n",
       " 'GAMMA': 0.99,\n",
       " 'hydra/output_subdir': None,\n",
       " 'hydra/hydra_logging': 'disabled',\n",
       " 'hydra/job_logging': 'disabled',\n",
       " 'user': {'ENTITY': 'wcarvalho92',\n",
       "  'SLURM_PARTITION': 'kempner',\n",
       "  'SLURM_ACCOUNT': 'kempner_fellows'},\n",
       " 'debug': {'NUM_ENVS': 2,\n",
       "  'TRAINING_INTERVAL': 1,\n",
       "  'TOTAL_TIMESTEPS': 5000,\n",
       "  'EVAL_EPISODES': 1,\n",
       "  'EVAL_STEPS': 10,\n",
       "  'BUFFER_SIZE': 100,\n",
       "  'LEARNING_STARTS': 0,\n",
       "  'BUFFER_BATCH_SIZE': 1,\n",
       "  'SAMPLE_LENGTH': 4,\n",
       "  'LEARNER_LOG_PERIOD': 1,\n",
       "  'GRADIENT_LOG_PERIOD': 1,\n",
       "  'LEARNER_EXTRA_LOG_PERIOD': 1,\n",
       "  'EVAL_LOG_PERIOD': 1,\n",
       "  'MAX_EPISODE_LOG_LEN': 2,\n",
       "  'DEBUG': True,\n",
       "  'OBSERVER_PERIOD': 10,\n",
       "  'OBSERVER_EPISODES': 1,\n",
       "  'NUM_SIMULATIONS': 2,\n",
       "  'SIMULATION_LENGTH': 3,\n",
       "  'AGENT_HIDDEN_DIM': 16,\n",
       "  'IMAGE_HIDDEN': 16,\n",
       "  'AGENT_RNN_DIM': 16,\n",
       "  'GRID_HIDDEN': 16,\n",
       "  'NUM_BINS': 11,\n",
       "  'NUM_EMBED_LAYERS': 0,\n",
       "  'NUM_GRID_LAYERS': 1,\n",
       "  'NUM_ENCODER_LAYERS': 1,\n",
       "  'ENV_KWARGS': {'time_limit': 4}},\n",
       " 'env': {'PROJECT': 'keyroom', 'ENV_NAME': 'keyroom'}}"
      ]
     },
     "execution_count": 10,
     "metadata": {},
     "output_type": "execute_result"
    }
   ],
   "source": [
    "import hydra\n",
    "from omegaconf import OmegaConf\n",
    "with hydra.initialize(\n",
    "    version_base=None,\n",
    "    config_path='../../projects/humansf/configs'):\n",
    "    config = hydra.compose(\n",
    "      config_name='ql_keyroom')\n",
    "    config = OmegaConf.to_container(config)\n",
    "config"
   ]
  },
  {
   "cell_type": "code",
   "execution_count": 11,
   "id": "174e0574-d189-4bc2-819f-f62f8f28387a",
   "metadata": {},
   "outputs": [],
   "source": [
    "config['TOTAL_TIMESTEPS'] = 1e3"
   ]
  },
  {
   "cell_type": "code",
   "execution_count": 12,
   "id": "9669ec73-bb92-4320-8b54-fce0c89c10e1",
   "metadata": {},
   "outputs": [
    {
     "name": "stdout",
     "output_type": "stream",
     "text": [
      "==================================================\n",
      "Total number of params: 2,234,944\n",
      "\tobservation_encoder: 1,576,512\n",
      "\trnn: 525,312\n",
      "\tq_fn: 133,120\n",
      "==================================================\n",
      "TRAINING\n",
      "==================================================\n"
     ]
    }
   ],
   "source": [
    "import functools\n",
    "from agents import value_based_basics as vbb\n",
    "from projects.humansf import qlearning\n",
    "from projects.humansf import networks\n",
    "\n",
    "make_train = functools.partial(\n",
    "          vbb.make_train,\n",
    "          make_agent=functools.partial(\n",
    "             qlearning.make_agent,\n",
    "             ObsEncoderCls=networks.HouzemazeObsEncoder,\n",
    "             ),\n",
    "          make_optimizer=qlearning.make_optimizer,\n",
    "          make_loss_fn_class=qlearning.make_loss_fn_class,\n",
    "          make_actor=qlearning.make_actor,\n",
    "      )\n",
    "\n",
    "train_fn = make_train(\n",
    "      config=config,\n",
    "      env=env,\n",
    "      train_env_params=env_params,\n",
    "      test_env_params=test_env_params,\n",
    "      #ObserverCls=observer_class,\n",
    "      )\n",
    "train_vjit = jax.jit(jax.vmap(train_fn))\n",
    "\n",
    "rng = jax.random.PRNGKey(config[\"SEED\"])\n",
    "rngs = jax.random.split(rng, config[\"NUM_SEEDS\"])\n",
    "outs = jax.block_until_ready(train_vjit(rngs))\n"
   ]
  },
  {
   "cell_type": "code",
   "execution_count": null,
   "id": "10d8f31b-49ae-4795-9a42-9121ea1270dc",
   "metadata": {},
   "outputs": [],
   "source": []
  }
 ],
 "metadata": {
  "kernelspec": {
   "display_name": "Python 3 (ipykernel)",
   "language": "python",
   "name": "python3"
  },
  "language_info": {
   "codemirror_mode": {
    "name": "ipython",
    "version": 3
   },
   "file_extension": ".py",
   "mimetype": "text/x-python",
   "name": "python",
   "nbconvert_exporter": "python",
   "pygments_lexer": "ipython3",
   "version": "3.10.0"
  }
 },
 "nbformat": 4,
 "nbformat_minor": 5
}
