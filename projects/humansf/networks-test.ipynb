{
 "cells": [
  {
   "cell_type": "code",
   "execution_count": 1,
   "id": "80aac0d9-5474-4e74-81dd-fc0bad9a3089",
   "metadata": {},
   "outputs": [],
   "source": [
    "%load_ext autoreload\n",
    "%autoreload 2\n"
   ]
  },
  {
   "cell_type": "code",
   "execution_count": 2,
   "id": "9fc0a841-cfea-4619-a11f-f2b6c9134a2e",
   "metadata": {},
   "outputs": [
    {
     "name": "stderr",
     "output_type": "stream",
     "text": [
      "/Users/wilka/miniforge3/envs/jaxneurorl/lib/python3.10/site-packages/tqdm/auto.py:21: TqdmWarning: IProgress not found. Please update jupyter and ipywidgets. See https://ipywidgets.readthedocs.io/en/stable/user_install.html\n",
      "  from .autonotebook import tqdm as notebook_tqdm\n"
     ]
    }
   ],
   "source": [
    "import keyroom\n",
    "import jax\n",
    "import jax.numpy as jnp\n",
    "# from gymnax.visualize import Visualizer\n",
    "import visualizer\n",
    "from xminigrid.rendering.rgb_render import render\n",
    "import numpy as np\n",
    "from IPython.display import Image\n",
    "import minigrid_common\n",
    "import networks"
   ]
  },
  {
   "cell_type": "code",
   "execution_count": 3,
   "id": "275c0b80-0810-49fb-b722-d831f17db7a3",
   "metadata": {},
   "outputs": [],
   "source": [
    "import json\n",
    "\n",
    "# Open the file and load the JSON data\n",
    "with open(\"maze_pairs.json\", \"r\") as file:\n",
    "    maze_config = json.load(file)[0]"
   ]
  },
  {
   "cell_type": "code",
   "execution_count": 4,
   "id": "a56af713-d7e3-4ebc-9b9d-8cf7110f3864",
   "metadata": {},
   "outputs": [
    {
     "name": "stdout",
     "output_type": "stream",
     "text": [
      "{'keys': [['key', 'grey'],\n",
      "          ['key', 'red'],\n",
      "          ['key', 'purple'],\n",
      "          ['key', 'yellow']],\n",
      " 'pairs': [[['box', 'blue'], ['ball', 'blue']],\n",
      "           [['box', 'purple'], ['box', 'green']],\n",
      "           [['ball', 'green'], ['box', 'yellow']],\n",
      "           [['key', 'blue'], ['key', 'green']]]}\n"
     ]
    },
    {
     "data": {
      "text/plain": [
       "KeyRoomEnvParams(height=19, width=19, view_size=7, render_mode='rgb_array', random_door_loc=False, training=True)"
      ]
     },
     "execution_count": 4,
     "metadata": {},
     "output_type": "execute_result"
    }
   ],
   "source": [
    "from pprint import pprint\n",
    "\n",
    "\n",
    "pprint(maze_config)\n",
    "\n",
    "env = keyroom.KeyRoom(\n",
    "    maze_config=keyroom.shorten_maze_config(maze_config, 1))\n",
    "env_params = env.default_params()\n",
    "env_params"
   ]
  },
  {
   "cell_type": "code",
   "execution_count": 5,
   "id": "137243b2-7ad4-404a-b742-e5e5efac7ca1",
   "metadata": {},
   "outputs": [
    {
     "data": {
      "image/png": "[encoded data removed]",
      "text/plain": [
       "<Figure size 640x480 with 1 Axes>"
      ]
     },
     "metadata": {},
     "output_type": "display_data"
    },
    {
     "data": {
      "text/plain": [
       "Observation(image=(7, 7, 34), task_w=(4,), state_features=(4,), has_occurred=(4,), pocket=(29,))"
      ]
     },
     "execution_count": 5,
     "metadata": {},
     "output_type": "execute_result"
    }
   ],
   "source": [
    "rng = jax.random.PRNGKey(2)\n",
    "rng, rng_ = jax.random.split(rng)\n",
    "timestep = env.reset(rng_, env_params)\n",
    "\n",
    "# get image of full state\n",
    "# state_image = env.render(env_params, timestep)\n",
    "# visualizer.display_image(state_image)\n",
    "\n",
    "# get image of what agent observes (theirs is symbolic)\n",
    "obs_image = keyroom.render_room(timestep.state)\n",
    "visualizer.display_image(obs_image)\n",
    "\n",
    "jax.tree_map(lambda x:x.shape, timestep.observation)"
   ]
  },
  {
   "cell_type": "code",
   "execution_count": 13,
   "id": "f72e6058-0e60-4fb7-a9e8-4a5d24dd2a18",
   "metadata": {},
   "outputs": [],
   "source": [
    "encoder = networks.KeyroomObsEncoder(hidden_dim=128)\n",
    "params = encoder.init(rng, timestep.observation)\n",
    "encoded_obs = encoder.apply(params, timestep.observation)"
   ]
  },
  {
   "cell_type": "code",
   "execution_count": 14,
   "id": "a649ba30-9dc3-4380-b184-0ff19bed5cd2",
   "metadata": {},
   "outputs": [
    {
     "data": {
      "text/plain": [
       "(1152,)"
      ]
     },
     "execution_count": 14,
     "metadata": {},
     "output_type": "execute_result"
    }
   ],
   "source": [
    "encoded_obs.shape"
   ]
  },
  {
   "cell_type": "code",
   "execution_count": null,
   "id": "351f5b6c-d517-434c-8222-bd3a7c77bb52",
   "metadata": {},
   "outputs": [],
   "source": []
  }
 ],
 "metadata": {
  "kernelspec": {
   "display_name": "Python 3 (ipykernel)",
   "language": "python",
   "name": "python3"
  },
  "language_info": {
   "codemirror_mode": {
    "name": "ipython",
    "version": 3
   },
   "file_extension": ".py",
   "mimetype": "text/x-python",
   "name": "python",
   "nbconvert_exporter": "python",
   "pygments_lexer": "ipython3",
   "version": "3.10.0"
  }
 },
 "nbformat": 4,
 "nbformat_minor": 5
}
