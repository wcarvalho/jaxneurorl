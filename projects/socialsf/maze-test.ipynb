{
 "cells": [
  {
   "cell_type": "code",
   "execution_count": 1,
   "id": "c2e5d786-b75e-4f4d-a4d6-a7bef780b62b",
   "metadata": {},
   "outputs": [],
   "source": [
    "%load_ext autoreload\n",
    "%autoreload 2\n"
   ]
  },
  {
   "cell_type": "code",
   "execution_count": 2,
   "id": "ee7ecd40-c89c-4a89-867f-5646a14a76a4",
   "metadata": {},
   "outputs": [
    {
     "name": "stdout",
     "output_type": "stream",
     "text": [
      "at directory: /Users/wilka/git/research/jaxneurorl/projects/socialsf\n",
      "changing to root directory\n",
      "at directory: /Users/wilka/git/research/jaxneurorl\n"
     ]
    }
   ],
   "source": [
    "import os\n",
    "import sys\n",
    "print(\"at directory:\", os.getcwd())\n",
    "print(\"changing to root directory\")\n",
    "os.chdir(\"../..\")\n",
    "print(\"at directory:\", os.getcwd())"
   ]
  },
  {
   "cell_type": "code",
   "execution_count": 17,
   "id": "ab298afa-b504-4b8b-8640-7c26859e0f7f",
   "metadata": {},
   "outputs": [],
   "source": [
    "import jax\n",
    "from projects.humansf import visualizer\n",
    "\n",
    "from projects.socialsf.level import Level\n",
    "from projects.socialsf.maze import Maze\n",
    "from projects.socialsf.renderer import MazeRenderer\n"
   ]
  },
  {
   "cell_type": "code",
   "execution_count": 20,
   "id": "e42d69fd-54e8-4b6b-afe5-35c9416e102a",
   "metadata": {},
   "outputs": [
    {
     "data": {
      "image/png": "[encoded data removed]",
      "text/plain": [
       "<Figure size 640x480 with 1 Axes>"
      ]
     },
     "metadata": {},
     "output_type": "display_data"
    }
   ],
   "source": [
    "seed=3\n",
    "rng = jax.random.PRNGKey(seed)\n",
    "\n",
    "level = Maze1 = \"\"\"\n",
    "...#..#..#...\n",
    ".>.......#...\n",
    "...#..#......\n",
    "#.###.##.###.\n",
    "...#.........\n",
    "......#..#...\n",
    "##.#.##.###.#\n",
    "...#.....#...\n",
    "...#..#......\n",
    ".####.##.#.##\n",
    "...#..#..#...\n",
    "......#....G.\n",
    "...#.....#...\n",
    "\"\"\".strip()\n",
    "\n",
    "level = Level.from_str(level)\n",
    "\n",
    "env = Maze(max_height=13, max_width=13, agent_view_size=7, normalize_obs=True)\n",
    "env_params = env.default_params\n",
    "env_renderer = MazeRenderer(env, tile_size=8)\n",
    "obs, env_state = env.reset_to_level(rng, level, env_params)\n",
    "\n",
    "image = env_renderer.render_state(env_state, env_params)\n",
    "visualizer.display_image(image)"
   ]
  },
  {
   "cell_type": "code",
   "execution_count": 22,
   "id": "484cf88b-44c0-43b2-8c9b-59896d096f7c",
   "metadata": {},
   "outputs": [
    {
     "data": {
      "image/png": "[encoded data removed]",
      "text/plain": [
       "<Figure size 640x480 with 1 Axes>"
      ]
     },
     "metadata": {},
     "output_type": "display_data"
    }
   ],
   "source": [
    "seed=3\n",
    "rng = jax.random.PRNGKey(seed)\n",
    "\n",
    "level = SimpleMaze1 = \"\"\"\n",
    ".............\n",
    ".............\n",
    ".............\n",
    ".............\n",
    ".............\n",
    ".............\n",
    ".............\n",
    ".............\n",
    ".............\n",
    ".............\n",
    ".............\n",
    ".>.........G.\n",
    ".............\n",
    "\"\"\".strip()\n",
    "\n",
    "level = Level.from_str(level)\n",
    "\n",
    "env = Maze(max_height=13, max_width=13, agent_view_size=7, normalize_obs=True)\n",
    "env_params = env.default_params\n",
    "env_renderer = MazeRenderer(env, tile_size=8)\n",
    "obs, env_state = env.reset_to_level(rng, level, env_params)\n",
    "\n",
    "image = env_renderer.render_state(env_state, env_params)\n",
    "visualizer.display_image(image)"
   ]
  },
  {
   "cell_type": "code",
   "execution_count": null,
   "id": "a29d39fe-fdaa-4e90-bf57-b1b148401e95",
   "metadata": {},
   "outputs": [],
   "source": []
  }
 ],
 "metadata": {
  "kernelspec": {
   "display_name": "Python 3 (ipykernel)",
   "language": "python",
   "name": "python3"
  },
  "language_info": {
   "codemirror_mode": {
    "name": "ipython",
    "version": 3
   },
   "file_extension": ".py",
   "mimetype": "text/x-python",
   "name": "python",
   "nbconvert_exporter": "python",
   "pygments_lexer": "ipython3",
   "version": "3.10.0"
  }
 },
 "nbformat": 4,
 "nbformat_minor": 5
}
