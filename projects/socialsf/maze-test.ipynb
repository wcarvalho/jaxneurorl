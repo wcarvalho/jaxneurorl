{
 "cells": [
  {
   "cell_type": "code",
   "execution_count": 111,
   "id": "c2e5d786-b75e-4f4d-a4d6-a7bef780b62b",
   "metadata": {},
   "outputs": [
    {
     "name": "stdout",
     "output_type": "stream",
     "text": [
      "The autoreload extension is already loaded. To reload it, use:\n",
      "  %reload_ext autoreload\n"
     ]
    }
   ],
   "source": [
    "%load_ext autoreload\n",
    "%autoreload 2\n"
   ]
  },
  {
   "cell_type": "code",
   "execution_count": 112,
   "id": "ee7ecd40-c89c-4a89-867f-5646a14a76a4",
   "metadata": {},
   "outputs": [
    {
     "name": "stdout",
     "output_type": "stream",
     "text": [
      "at directory: /Users/wilka/git/research/jaxneurorl\n",
      "changing to root directory\n",
      "at directory: /Users/wilka/git\n"
     ]
    }
   ],
   "source": [
    "import os\n",
    "import sys\n",
    "print(\"at directory:\", os.getcwd())\n",
    "print(\"changing to root directory\")\n",
    "os.chdir(\"../..\")\n",
    "print(\"at directory:\", os.getcwd())"
   ]
  },
  {
   "cell_type": "code",
   "execution_count": 113,
   "id": "ab298afa-b504-4b8b-8640-7c26859e0f7f",
   "metadata": {},
   "outputs": [],
   "source": [
    "import jax\n",
    "from projects.humansf import visualizer\n",
    "\n",
    "from projects.socialsf.level import Level\n",
    "from projects.socialsf.maze import Maze\n",
    "from projects.socialsf.renderer import MazeRenderer\n"
   ]
  },
  {
   "cell_type": "code",
   "execution_count": null,
   "id": "e3c3d7bf-49de-4654-bc1d-dc608b15d80f",
   "metadata": {},
   "outputs": [],
   "source": [
    "\n",
    "    "
   ]
  },
  {
   "cell_type": "markdown",
   "id": "35156278-2f81-4371-8ac2-2e94154fa20a",
   "metadata": {},
   "source": [
    "# Complicated goals"
   ]
  },
  {
   "cell_type": "code",
   "execution_count": 179,
   "id": "e42d69fd-54e8-4b6b-afe5-35c9416e102a",
   "metadata": {
    "scrolled": true
   },
   "outputs": [
    {
     "data": {
      "image/png": "[encoded data removed]",
      "text/plain": [
       "<Figure size 800x200 with 4 Axes>"
      ]
     },
     "metadata": {},
     "output_type": "display_data"
    }
   ],
   "source": [
    "seed=3\n",
    "rng = jax.random.PRNGKey(seed)\n",
    "\n",
    "\n",
    "def plot_level(level, setting='level', **kwargs):\n",
    "    env = Maze(max_height=13, max_width=13, agent_view_size=1, normalize_obs=True)\n",
    "    env_params = env.default_params\n",
    "    env_renderer = MazeRenderer(env, tile_size=8)\n",
    "    level = Level.from_str(level, assert_agent_goal=False)\n",
    "\n",
    "    obs, env_state = env.reset_to_level(rng, level, env_params)\n",
    "    \n",
    "    if setting == 'level':\n",
    "        visualizer.display_image(env_renderer.render_level(env_state, env_params), **kwargs)\n",
    "    elif setting == 'flow':\n",
    "        actions = find_optimal_actions(env_state.maze_map, floor_array, wall_array, goal_array)\n",
    "        image = env_renderer.render_state(env_state, env_params)\n",
    "        place_arrows_on_image(image, actions, env_state, offset=8, **kwargs)\n",
    "    elif setting == 'path':\n",
    "        actions = find_optimal_actions(env_state.maze_map, floor_array, wall_array, goal_array)\n",
    "        image = env_renderer.render_state(env_state, env_params)\n",
    "        show_path_to_goal(image, tuple(int(i) for i in env_state.agent_pos), actions, env_state, offset=8, **kwargs)\n",
    "    elif setting == 'both':\n",
    "        fig, axs = plt.subplots(1, 2, figsize=(8, 8))\n",
    "        env_renderer = MazeRenderer(env, tile_size=8)\n",
    "        image = env_renderer.render_state(env_state, env_params)\n",
    "        actions = find_optimal_actions(env_state.maze_map, floor_array, wall_array, goal_array)\n",
    "        place_arrows_on_image(image, actions, env_state, ax=axs[0], offset=8)\n",
    "        show_path_to_goal(image, tuple(int(i) for i in env_state.agent_pos), actions, env_state, ax=axs[1], offset=8)\n",
    "    else:\n",
    "        raise RuntimeError\n",
    "\n",
    "\n",
    "\n",
    "nplots = 4\n",
    "width = 2\n",
    "fig, axs = plt.subplots(1, nplots, figsize=(width*nplots, width))\n",
    "\n",
    "axss = iter(axs.ravel())\n",
    "\n",
    "level = Maze1 = \"\"\"\n",
    "...#..#..#...\n",
    ".>.......#...\n",
    "...#..#......\n",
    "#.###.##.###.\n",
    "...#.........\n",
    "......#..#...\n",
    "##.#.##.###.#\n",
    "...#.....#...\n",
    "...#..#......\n",
    ".####.##.#.##\n",
    "...#..#..#...\n",
    ".....G#......\n",
    "...#.....#...\n",
    "\"\"\".strip()\n",
    "\n",
    "plot_level(Maze1, setting='path', ax=next(axss))\n",
    "\n",
    "\n",
    "level = Maze1 = \"\"\"\n",
    "...#..#..#...\n",
    ".>.......#...\n",
    "...#..#......\n",
    "#.###.##.###.\n",
    "...#.........\n",
    "......#..#...\n",
    "##.#.##.###.#\n",
    "...#....G#...\n",
    "...#..#......\n",
    ".####.##.#.##\n",
    "...#..#..#...\n",
    "......#......\n",
    "...#.....#...\n",
    "\"\"\".strip()\n",
    "\n",
    "plot_level(Maze1, setting='path', ax=next(axss))\n",
    "\n",
    "level = \"\"\"\n",
    "...#..#..#...\n",
    ".>.......#...\n",
    "...#..#......\n",
    "#.###.##.###.\n",
    "...#.........\n",
    "......#..#...\n",
    "##.#.##.###G#\n",
    "...#.....#...\n",
    "...#..#......\n",
    ".####.##.#.##\n",
    "...#..#..#...\n",
    "......#......\n",
    "...#.....#...\n",
    "\"\"\".strip()\n",
    "\n",
    "plot_level(level, setting='path', ax=next(axss))\n",
    "\n",
    "level = \"\"\"\n",
    "...#..#..#...\n",
    ".>.......#...\n",
    "...#..#......\n",
    "#.###.##.###G\n",
    "...#.........\n",
    "......#..#...\n",
    "##.#.##.###.#\n",
    "...#.....#...\n",
    "...#..#......\n",
    ".####.##.#.##\n",
    "...#..#..#...\n",
    "......#......\n",
    "...#.....#...\n",
    "\"\"\".strip()\n",
    "\n",
    "plot_level(level, setting='flow', ax=next(axss))"
   ]
  },
  {
   "cell_type": "code",
   "execution_count": 178,
   "id": "617856d9-db55-4401-a8d7-3b2a8645d08c",
   "metadata": {},
   "outputs": [
    {
     "data": {
      "image/png": "[encoded data removed]",
      "text/plain": [
       "<Figure size 640x480 with 1 Axes>"
      ]
     },
     "metadata": {},
     "output_type": "display_data"
    }
   ],
   "source": [
    "level = \"\"\"\n",
    "...#..#..#...\n",
    ".........#...\n",
    "...#..#......\n",
    "#.###.##.###.\n",
    "...#.........\n",
    "......#..#...\n",
    "##.#.##.###.#\n",
    "...#.....#...\n",
    "...#..#......\n",
    ".####.##.#.##\n",
    "...#..#..#...\n",
    "......#......\n",
    "...#.....#...\n",
    "\"\"\".strip()\n",
    "\n",
    "plot_level(level)"
   ]
  },
  {
   "cell_type": "markdown",
   "id": "285fe644-888b-4815-afba-a0b1f4b4a5c5",
   "metadata": {},
   "source": [
    "okay, so what do I want to do?\n",
    "\n",
    "my goal is to show that if a goal is \"hard\", i.e. the plan for it is not obvious, then you will resort to using a predictive representation *that is sub-optimal*.\n",
    "\n",
    "what does it mean to re-use a predictive representation?\n",
    "(a) in terms of what's the path to get to a goal? So, you see a goal, and you have to predict /how/ somebody will get there. This is like a goal of GPI.\n",
    "(b) the other way to re-use a predictive representation is to use it to infer what goal someone is pursuing. so basically, if a planning a path to a goal is hard. okay, so you have multiple goals and all require planning. if you're in that condition, what you'll do is re-use what you've seen before. this is __completely trivial__ from the same starting position that you saw before. so it needs to be that this is a new starting position.\n",
    "\n",
    "okay, so what makes sense is that you've seen a bunch of paths towards the goal from across the map. same goal. and then you see someone starting on a path you know. and you can use that to predict the goal __very__ quickly.\n",
    "\n",
    "and if two goals have overlap, only once they no longer overlap do you know. and a measurement of this discrepancy comes from the literal state occupancy measure. and the hypothesis, is that we do an expectation is over all sources of randomness, with a world model that is structured and includes a policy for other agents. so we compute the occupancy measure for the other agent using the exact same math. okay, so I need to examples.\n",
    "\n",
    "What conditions should the examples fulfill?\n",
    "1. seperate goals\n",
    "2. have experienced paths to that goal\n",
    "3. given a new path,"
   ]
  },
  {
   "cell_type": "markdown",
   "id": "818c8c06-be02-40ac-b0bc-4b49a38c6bf7",
   "metadata": {},
   "source": [
    "# Simple goals"
   ]
  },
  {
   "cell_type": "code",
   "execution_count": 183,
   "id": "484cf88b-44c0-43b2-8c9b-59896d096f7c",
   "metadata": {},
   "outputs": [
    {
     "data": {
      "image/png": "[encoded data removed]",
      "text/plain": [
       "<Figure size 640x480 with 1 Axes>"
      ]
     },
     "metadata": {},
     "output_type": "display_data"
    }
   ],
   "source": [
    "seed=3\n",
    "rng = jax.random.PRNGKey(seed)\n",
    "\n",
    "level = SimpleMaze1 = \"\"\"\n",
    ".............\n",
    ".............\n",
    ".............\n",
    ".............\n",
    ".............\n",
    ".............\n",
    ".............\n",
    ".............\n",
    ".............\n",
    ".............\n",
    ".............\n",
    ".............\n",
    ".............\n",
    "\"\"\".strip()\n",
    "\n",
    "plot_level(level)"
   ]
  },
  {
   "cell_type": "code",
   "execution_count": null,
   "id": "a29d39fe-fdaa-4e90-bf57-b1b148401e95",
   "metadata": {},
   "outputs": [],
   "source": []
  }
 ],
 "metadata": {
  "kernelspec": {
   "display_name": "Python 3 (ipykernel)",
   "language": "python",
   "name": "python3"
  },
  "language_info": {
   "codemirror_mode": {
    "name": "ipython",
    "version": 3
   },
   "file_extension": ".py",
   "mimetype": "text/x-python",
   "name": "python",
   "nbconvert_exporter": "python",
   "pygments_lexer": "ipython3",
   "version": "3.10.0"
  }
 },
 "nbformat": 4,
 "nbformat_minor": 5
}
